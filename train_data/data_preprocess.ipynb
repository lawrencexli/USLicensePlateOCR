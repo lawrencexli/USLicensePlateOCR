{
 "cells": [
  {
   "cell_type": "markdown",
   "id": "48c407fc-afa3-4fee-86a0-619f6e713778",
   "metadata": {},
   "source": [
    "# OpenALPR benchmark dataset preprocess"
   ]
  },
  {
   "cell_type": "code",
   "execution_count": 1,
   "id": "427067ae-7296-404f-9973-11083815e29a",
   "metadata": {},
   "outputs": [],
   "source": [
    "!mkdir train\n",
    "!mkdir val"
   ]
  },
  {
   "cell_type": "code",
   "execution_count": 2,
   "id": "46621825-0072-44c7-aa26-623b2ad5a9b6",
   "metadata": {},
   "outputs": [],
   "source": [
    "import shutil\n",
    "from glob import glob\n",
    "from numpy.random import shuffle\n",
    "import os\n",
    "import csv"
   ]
  },
  {
   "cell_type": "markdown",
   "id": "d97d5167-c35d-4e46-838d-8d3473588e89",
   "metadata": {},
   "source": [
    "## Reset: Remove all files from train and test folder"
   ]
  },
  {
   "cell_type": "code",
   "execution_count": 3,
   "id": "b256f5f8-c49f-4684-998e-f025da5edbea",
   "metadata": {},
   "outputs": [],
   "source": [
    "train_list = glob(\"train/*.png\")\n",
    "test_list = glob(\"val/*.png\")\n",
    "file_list = train_list + test_list\n",
    "\n",
    "for f in file_list:\n",
    "    os.remove(f)"
   ]
  },
  {
   "cell_type": "markdown",
   "id": "dbe2c978-9a17-4221-9f9a-652e305e334c",
   "metadata": {},
   "source": [
    "## Remove images with incorrect labels"
   ]
  },
  {
   "cell_type": "code",
   "execution_count": 4,
   "id": "b4237636-b04e-4153-8550-99cd7f58c372",
   "metadata": {},
   "outputs": [
    {
     "data": {
      "text/plain": [
       "751"
      ]
     },
     "execution_count": 4,
     "metadata": {},
     "output_type": "execute_result"
    }
   ],
   "source": [
    "def label_reader(file_path):\n",
    "    true_labels = {}\n",
    "    \n",
    "    with open(file_path) as csv_file:\n",
    "        csv_reader = csv.reader(csv_file, delimiter=',')\n",
    "        for row in csv_reader:\n",
    "            true_labels[row[0]] = row[1]\n",
    "            \n",
    "    return true_labels\n",
    "                \n",
    "true_labels = label_reader('groundtruth.csv')\n",
    "len(true_labels)"
   ]
  },
  {
   "cell_type": "code",
   "execution_count": 5,
   "id": "41e92ce4-6e0e-47b2-9a12-e7589f11f7c3",
   "metadata": {},
   "outputs": [
    {
     "data": {
      "text/plain": [
       "['usimages/wa1071.png',\n",
       " 'usimages/ny1237.png',\n",
       " 'usimages/nj891.png',\n",
       " 'usimages/nv1583.png',\n",
       " 'usimages/ky729.png']"
      ]
     },
     "execution_count": 5,
     "metadata": {},
     "output_type": "execute_result"
    }
   ],
   "source": [
    "img_list = glob('usimages/*.png')\n",
    "img_list[:5]"
   ]
  },
  {
   "cell_type": "code",
   "execution_count": 6,
   "id": "47d92b14-4cc2-49f4-9d14-1d3fb084fd5c",
   "metadata": {},
   "outputs": [],
   "source": [
    "for img in img_list:\n",
    "    img_id = img.split('/')[-1]\n",
    "    if true_labels[img_id] == '0':\n",
    "        os.remove(img)"
   ]
  },
  {
   "cell_type": "markdown",
   "id": "e9c40654-3604-4358-99b5-09883f3a1034",
   "metadata": {},
   "source": [
    "## Do train-test split"
   ]
  },
  {
   "cell_type": "code",
   "execution_count": 7,
   "id": "cfe97c88-bd7e-4db7-b011-068a72c12182",
   "metadata": {},
   "outputs": [
    {
     "data": {
      "text/plain": [
       "746"
      ]
     },
     "execution_count": 7,
     "metadata": {},
     "output_type": "execute_result"
    }
   ],
   "source": [
    "img_list = glob('usimages/*.png')\n",
    "shuffle(img_list)\n",
    "len(img_list)"
   ]
  },
  {
   "cell_type": "code",
   "execution_count": 8,
   "id": "c98b106e-ccdf-4dfa-b742-d8e96117a156",
   "metadata": {},
   "outputs": [
    {
     "data": {
      "text/plain": [
       "(600, 146)"
      ]
     },
     "execution_count": 8,
     "metadata": {},
     "output_type": "execute_result"
    }
   ],
   "source": [
    "# Define ratio of test and train\n",
    "test_len = 146\n",
    "train_len = 600\n",
    "train_len, test_len"
   ]
  },
  {
   "cell_type": "code",
   "execution_count": 9,
   "id": "09c0d153-3d17-4601-b795-5fb1047bea0c",
   "metadata": {},
   "outputs": [],
   "source": [
    "for i in range(train_len):\n",
    "    img_path = img_list[i]\n",
    "    img_id = img_path.split('/')[-1]\n",
    "    shutil.copyfile(img_list[i], 'train/' + img_id)"
   ]
  },
  {
   "cell_type": "code",
   "execution_count": 10,
   "id": "340fa238-0238-47e4-a9b6-60eb4fccf8e9",
   "metadata": {},
   "outputs": [],
   "source": [
    "for i in range(train_len, train_len + test_len):\n",
    "    img_path = img_list[i]\n",
    "    img_id = img_path.split('/')[-1]\n",
    "    shutil.copyfile(img_list[i], 'val/' + img_id)"
   ]
  },
  {
   "cell_type": "markdown",
   "id": "b93391f0-3b6d-41bd-b82d-0dea1f69d62f",
   "metadata": {},
   "source": [
    "## Create label txt "
   ]
  },
  {
   "cell_type": "code",
   "execution_count": 11,
   "id": "6ccce0d0-db73-4cf5-bfdb-77430e4779ae",
   "metadata": {},
   "outputs": [],
   "source": [
    "!rm -f train_list.txt\n",
    "!rm -f val_list.txt"
   ]
  },
  {
   "cell_type": "code",
   "execution_count": 12,
   "id": "61d9b1c5-62c3-4a7e-b262-c8cfdb13536d",
   "metadata": {},
   "outputs": [
    {
     "data": {
      "text/plain": [
       "(600, 146)"
      ]
     },
     "execution_count": 12,
     "metadata": {},
     "output_type": "execute_result"
    }
   ],
   "source": [
    "train_img = glob('train/*.png')\n",
    "test_img = glob('val/*.png')\n",
    "len(train_img), len(test_img)"
   ]
  },
  {
   "cell_type": "code",
   "execution_count": 13,
   "id": "8320495d-d54c-485c-90aa-d62d9842c317",
   "metadata": {},
   "outputs": [
    {
     "data": {
      "text/plain": [
       "['train/wa1071.png\\tPRIVACY',\n",
       " 'train/ny1237.png\\tACX7518',\n",
       " 'train/nj891.png\\tNZV97Y',\n",
       " 'train/ky729.png\\t547KPE',\n",
       " 'train/wy712.png\\t4779']"
      ]
     },
     "execution_count": 13,
     "metadata": {},
     "output_type": "execute_result"
    }
   ],
   "source": [
    "train_lines = []\n",
    "for t in train_img:\n",
    "    img_id = t.split('/')[-1]\n",
    "    train_lines.append(t + \"\\t\" + true_labels[img_id])\n",
    "    \n",
    "train_lines[:5]"
   ]
  },
  {
   "cell_type": "code",
   "execution_count": 14,
   "id": "7f164323-0ccd-4598-a20a-3188ca0f5d22",
   "metadata": {},
   "outputs": [],
   "source": [
    "with open('train_list.txt', 'w') as f:\n",
    "    for line in train_lines:\n",
    "        f.write(line)\n",
    "        f.write('\\n')"
   ]
  },
  {
   "cell_type": "code",
   "execution_count": 15,
   "id": "f0a74160-5551-4309-a24d-6fdbf5499c6d",
   "metadata": {},
   "outputs": [
    {
     "data": {
      "text/plain": [
       "['val/nv1583.png\\t326NEB',\n",
       " 'val/in1658.png\\tN0G0DS',\n",
       " 'val/mi242.png\\tG0LFING',\n",
       " 'val/nv756.png\\t839VGA',\n",
       " 'val/va341.png\\t1333LE']"
      ]
     },
     "execution_count": 15,
     "metadata": {},
     "output_type": "execute_result"
    }
   ],
   "source": [
    "test_lines = []\n",
    "for t in test_img:\n",
    "    img_id = t.split('/')[-1]\n",
    "    test_lines.append(t + \"\\t\" + true_labels[img_id])\n",
    "    \n",
    "test_lines[:5]"
   ]
  },
  {
   "cell_type": "code",
   "execution_count": 16,
   "id": "3c149dc1-63e8-4a4a-b631-83207b912250",
   "metadata": {},
   "outputs": [],
   "source": [
    "with open('val_list.txt', 'w') as f:\n",
    "    for line in test_lines:\n",
    "        f.write(line)\n",
    "        f.write('\\n')"
   ]
  }
 ],
 "metadata": {
  "environment": {
   "kernel": "conda-root-py",
   "name": "pytorch-gpu.1-10.m90",
   "type": "gcloud",
   "uri": "gcr.io/deeplearning-platform-release/pytorch-gpu.1-10:m90"
  },
  "kernelspec": {
   "display_name": "Python [conda env:root] *",
   "language": "python",
   "name": "conda-root-py"
  },
  "language_info": {
   "codemirror_mode": {
    "name": "ipython",
    "version": 3
   },
   "file_extension": ".py",
   "mimetype": "text/x-python",
   "name": "python",
   "nbconvert_exporter": "python",
   "pygments_lexer": "ipython3",
   "version": "3.7.12"
  }
 },
 "nbformat": 4,
 "nbformat_minor": 5
}
