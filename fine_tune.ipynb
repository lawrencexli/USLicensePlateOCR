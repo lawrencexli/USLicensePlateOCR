{
 "cells": [
  {
   "cell_type": "markdown",
   "id": "c25dff8e-c9dc-4f85-95c5-88ff3698a382",
   "metadata": {},
   "source": [
    "# PaddleOCR Fine-tune steps"
   ]
  },
  {
   "cell_type": "markdown",
   "id": "f33916d4-d860-4749-9b9a-17030e25fd2c",
   "metadata": {},
   "source": [
    "## Make sure to run `train_data/data_preprocess.ipynb` BEFORE running these commands on terminal!\n",
    "## Don't run these commands in jupyter notebook"
   ]
  },
  {
   "cell_type": "markdown",
   "id": "a29381fe-51a8-4118-8607-2e943ea965ad",
   "metadata": {},
   "source": [
    "## In the current project 1 directory, clone PaddleOCR"
   ]
  },
  {
   "cell_type": "code",
   "execution_count": null,
   "id": "7968adab-4074-455e-998a-07b03f0dad31",
   "metadata": {},
   "outputs": [],
   "source": [
    "!git clone https://github.com/PaddlePaddle/PaddleOCR.git"
   ]
  },
  {
   "cell_type": "markdown",
   "id": "98a18ba5-fee7-44f8-909c-975ef1fb14f3",
   "metadata": {},
   "source": [
    "## Move train data to main repository"
   ]
  },
  {
   "cell_type": "code",
   "execution_count": null,
   "id": "757df76b-432d-4d8a-b4a4-db9b35135a02",
   "metadata": {},
   "outputs": [],
   "source": [
    "!cp -r train_data PaddleOCR/train_data"
   ]
  },
  {
   "cell_type": "markdown",
   "id": "0eccd534-4122-4417-bbe4-2c551e9870eb",
   "metadata": {},
   "source": [
    "## cd to PaddleOCR directory and download pre-trained models"
   ]
  },
  {
   "cell_type": "code",
   "execution_count": null,
   "id": "13984ea6-360d-45d9-8cd8-d3f5491c25dd",
   "metadata": {},
   "outputs": [],
   "source": [
    "!cd PaddleOCR"
   ]
  },
  {
   "cell_type": "code",
   "execution_count": null,
   "id": "3ef788e5-3dac-404e-8d6f-afed99022757",
   "metadata": {},
   "outputs": [],
   "source": [
    "!wget -P ./pretrain_models/ https://paddleocr.bj.bcebos.com/PP-OCRv3/english/en_PP-OCRv3_rec_train.tar"
   ]
  },
  {
   "cell_type": "code",
   "execution_count": null,
   "id": "f8bcfd3d-e45e-4a56-a593-e9782bb2e1ec",
   "metadata": {},
   "outputs": [],
   "source": [
    "!tar -xf en_PP-OCRv3_rec_train.tar && rm -rf en_PP-OCRv3_rec_train.tar"
   ]
  },
  {
   "cell_type": "markdown",
   "id": "d9ac70d4-997f-45e9-8bd5-dc27935c8441",
   "metadata": {},
   "source": [
    "## Train the model"
   ]
  },
  {
   "cell_type": "code",
   "execution_count": null,
   "id": "b96fb045-b6e9-41f0-9f39-c3c17e658546",
   "metadata": {},
   "outputs": [],
   "source": [
    "!python3 tools/train.py -c configs/rec/PP-OCRv3/en_PP-OCRv3_rec.yml -o Global.pretrained_model=./pretrain_models/en_PP-OCRv3_rec_train/best_accuracy"
   ]
  },
  {
   "cell_type": "markdown",
   "id": "e2d7c95f-1bd6-4b16-81a8-1bfd170af509",
   "metadata": {},
   "source": [
    "## Output the model as inference model "
   ]
  },
  {
   "cell_type": "code",
   "execution_count": null,
   "id": "23d2b20c-806c-4682-bb1f-c53c461c82ca",
   "metadata": {},
   "outputs": [],
   "source": [
    "!python3 tools/export_model.py -c configs/rec/PP-OCRv3/en_PP-OCRv3_rec.yml -o Global.pretrained_model=./output/v3_en_mobile/best_accuracy Global.save_inference_dir=../us_fine_tune_rec"
   ]
  }
 ],
 "metadata": {
  "environment": {
   "kernel": "conda-root-py",
   "name": "pytorch-gpu.1-10.m90",
   "type": "gcloud",
   "uri": "gcr.io/deeplearning-platform-release/pytorch-gpu.1-10:m90"
  },
  "kernelspec": {
   "display_name": "Python [conda env:root] *",
   "language": "python",
   "name": "conda-root-py"
  },
  "language_info": {
   "codemirror_mode": {
    "name": "ipython",
    "version": 3
   },
   "file_extension": ".py",
   "mimetype": "text/x-python",
   "name": "python",
   "nbconvert_exporter": "python",
   "pygments_lexer": "ipython3",
   "version": "3.7.12"
  }
 },
 "nbformat": 4,
 "nbformat_minor": 5
}
